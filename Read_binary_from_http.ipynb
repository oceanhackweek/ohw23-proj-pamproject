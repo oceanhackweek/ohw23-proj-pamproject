{
 "cells": [
  {
   "cell_type": "code",
   "execution_count": 1,
   "id": "66223059-15aa-4c1f-99bf-ac95ac2539a1",
   "metadata": {
    "tags": []
   },
   "outputs": [],
   "source": [
    "import urllib\n",
    "import io, re\n",
    "import numpy as np\n",
    "import struct\n",
    "import matplotlib.pyplot as plt"
   ]
  },
  {
   "cell_type": "code",
   "execution_count": 2,
   "id": "4a437ea2-32f8-4132-8bcb-23545f62617c",
   "metadata": {
    "tags": []
   },
   "outputs": [],
   "source": [
    "# Fetch online data\n",
    "with urllib.request.urlopen('https://imos-data.aodn.org.au/IMOS/ANMN/Acoustic/PAPCA/3444/20161002/raw/57F04DF1.DAT') as f:\n",
    "    data = f.readlines()"
   ]
  },
  {
   "cell_type": "code",
   "execution_count": 3,
   "id": "7f868298-0fc7-473c-8dbc-36c3757238d9",
   "metadata": {
    "tags": []
   },
   "outputs": [
    {
     "data": {
      "text/plain": [
       "('2016', '10', '02', '00:00:01', '48836')"
      ]
     },
     "execution_count": 3,
     "metadata": {},
     "output_type": "execute_result"
    }
   ],
   "source": [
    "# Split binary file\n",
    "header, body, footer = data[:5], data[5:-6], data[-6:]\n",
    "\n",
    "# Fetch header info with # https://regex101.com/\n",
    "header = [h.decode() for h in header]\n",
    "match = re.match('Sample Rate ([0-9]*) Duration ([0-9]*)', header[2])\n",
    "SampleRate = int(match.group(1))\n",
    "Duration = int(match.group(2))\n",
    "match = re.match('Schedule [0-9]* ([0-9]{4})\\/([0-9]{2})\\/([0-9]{1,2}) ([0-9:]*) - ([0-9]*)', header[1])\n",
    "match.groups()"
   ]
  },
  {
   "cell_type": "code",
   "execution_count": 8,
   "id": "79a89fb7-4180-42ba-8eba-d660f1b072f0",
   "metadata": {
    "tags": []
   },
   "outputs": [],
   "source": [
    "# Read binaries\n",
    "list_of_bytes = [bytes(element) for element in body]\n",
    "list_of_bytes = b'<\\>'.join(list_of_bytes)\n",
    "\n",
    "new_body = []\n",
    "for i, l in enumerate(body):\n",
    "    if len(l)%2 == 1:\n",
    "        #print(l, i)\n",
    "        l = l[:-1]\n",
    "    string_formatter = '>' + ('H' * (len(l) // 2))\n",
    "    temp = struct.unpack(string_formatter, l)\n",
    "    new_body.extend(temp)\n",
    "    \n",
    "volts = np.array(new_body)\n",
    "#n_channels = 1\n",
    "#volts = np.array(volts).reshape(-1, n_channels)"
   ]
  },
  {
   "cell_type": "code",
   "execution_count": 9,
   "id": "587203f0-07f3-46d6-b24c-5a366df80085",
   "metadata": {
    "tags": []
   },
   "outputs": [],
   "source": [
    "#Convert to actual Volts\n",
    "Fullscale = 5 #\t0 to 5 V\n",
    "#Multiply by this factor to convert A/D counts to volts 0-5\n",
    "CountsToVolts = Fullscale / 65536 \n",
    "\n",
    "Volts = (CountsToVolts * volts) - np.mean(volts * CountsToVolts)"
   ]
  },
  {
   "cell_type": "code",
   "execution_count": 10,
   "id": "24058db4-297c-4194-95cc-321ce65c9d32",
   "metadata": {
    "tags": []
   },
   "outputs": [
    {
     "data": {
      "text/plain": [
       "[<matplotlib.lines.Line2D at 0x7fc77cf35cd0>]"
      ]
     },
     "execution_count": 10,
     "metadata": {},
     "output_type": "execute_result"
    },
    {
     "data": {
      "image/png": "[encoded data removed]",
      "text/plain": [
       "<Figure size 640x480 with 1 Axes>"
      ]
     },
     "metadata": {},
     "output_type": "display_data"
    }
   ],
   "source": [
    "#Plot waveform in Volt\n",
    "plt.plot(Volts)\n",
    "#plt.scatter(np.arange(0, len(Volts)), Volts, alpha=0.1, s=1)"
   ]
  },
  {
   "cell_type": "markdown",
   "id": "eab59a19-c627-4175-8f04-95f3da7360fd",
   "metadata": {},
   "source": [
    "## Convert ts file to mp4"
   ]
  },
  {
   "cell_type": "code",
   "execution_count": null,
   "id": "71f724fb-db6d-452d-8ba6-c3cafdf05231",
   "metadata": {},
   "outputs": [],
   "source": [
    "from pydub import AudioSegment\n",
    "import ffmpeg"
   ]
  },
  {
   "cell_type": "code",
   "execution_count": 11,
   "id": "fb28326d-75e0-46c1-bf1f-6fd7c7cf85ef",
   "metadata": {
    "tags": []
   },
   "outputs": [
    {
     "ename": "NameError",
     "evalue": "name 'ffmpeg' is not defined",
     "output_type": "error",
     "traceback": [
      "\u001b[0;31m---------------------------------------------------------------------------\u001b[0m",
      "\u001b[0;31mNameError\u001b[0m                                 Traceback (most recent call last)",
      "Cell \u001b[0;32mIn[11], line 1\u001b[0m\n\u001b[0;32m----> 1\u001b[0m \u001b[43mffmpeg\u001b[49m\u001b[38;5;241m.\u001b[39minput(input_file)\u001b[38;5;241m.\u001b[39moutput(output_file)\u001b[38;5;241m.\u001b[39mrun()\n",
      "\u001b[0;31mNameError\u001b[0m: name 'ffmpeg' is not defined"
     ]
    }
   ],
   "source": [
    "ffmpeg.input(input_file).output(output_file).run()"
   ]
  },
  {
   "cell_type": "markdown",
   "id": "caa3e6cc-1a06-4f14-a9e8-49e46dd762ef",
   "metadata": {},
   "source": [
    "## Build spectrogram from wav file..."
   ]
  },
  {
   "cell_type": "code",
   "execution_count": null,
   "id": "01776d09-f9ce-4311-a3ae-25a9145a5764",
   "metadata": {},
   "outputs": [],
   "source": [
    "from soundscape_IR.soundscape_viewer import audio_visualization"
   ]
  },
  {
   "cell_type": "code",
   "execution_count": null,
   "id": "00289c06-b3df-49a9-9308-31348d624a61",
   "metadata": {},
   "outputs": [],
   "source": [
    "spec = audio_visualization(filename='f_converted.wav', path='./data/archive-orcasound-net-lab/')"
   ]
  }
 ],
 "metadata": {
  "kernelspec": {
   "display_name": "Python 3 (ipykernel)",
   "language": "python",
   "name": "python3"
  },
  "language_info": {
   "codemirror_mode": {
    "name": "ipython",
    "version": 3
   },
   "file_extension": ".py",
   "mimetype": "text/x-python",
   "name": "python",
   "nbconvert_exporter": "python",
   "pygments_lexer": "ipython3",
   "version": "3.9.16"
  }
 },
 "nbformat": 4,
 "nbformat_minor": 5
}
