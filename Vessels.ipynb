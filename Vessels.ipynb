{
 "cells": [
  {
   "cell_type": "code",
   "execution_count": 15,
   "id": "fbddb21f-e04b-4575-b06d-e1148d9415d5",
   "metadata": {
    "tags": []
   },
   "outputs": [],
   "source": [
    "import shutil, requests, os, glob\n",
    "import subprocess"
   ]
  },
  {
   "cell_type": "code",
   "execution_count": 2,
   "id": "795158ed-1d87-467f-b2a8-ed98355b4b8c",
   "metadata": {
    "tags": []
   },
   "outputs": [],
   "source": [
    "def download_file(url):\n",
    "    local_filename = os.path.join('data/california-pam/',url.split('/')[-1])\n",
    "    with requests.get(url, stream=True) as r:\n",
    "        with open(local_filename, 'wb') as f:\n",
    "            shutil.copyfileobj(r.raw, f)\n",
    "\n",
    "    return local_filename"
   ]
  },
  {
   "cell_type": "code",
   "execution_count": 10,
   "id": "f2158918-b49f-4bf0-a177-0170dfa16e42",
   "metadata": {
    "tags": []
   },
   "outputs": [
    {
     "name": "stdout",
     "output_type": "stream",
     "text": [
      "['01', '02', '03', '04', '05', '06', '07', '08', '09', '10', '11', '12', '13', '14', '15', '16', '17', '18', '19', '20']\n"
     ]
    }
   ],
   "source": [
    "# download vessel data for first 20 days\n",
    "days = [f'{day:02d}' for day in range(1, 21)]\n",
    "print(days)\n",
    "urls = [f\"https://coast.noaa.gov/htdata/CMSP/AISDataHandler/2021/AIS_2021_01_{day}.zip\" for day in days]"
   ]
  },
  {
   "cell_type": "code",
   "execution_count": 11,
   "id": "f3828b9a-0525-4456-ac77-22a44c774c01",
   "metadata": {
    "tags": []
   },
   "outputs": [
    {
     "name": "stdout",
     "output_type": "stream",
     "text": [
      "['https://coast.noaa.gov/htdata/CMSP/AISDataHandler/2021/AIS_2021_01_01.zip', 'https://coast.noaa.gov/htdata/CMSP/AISDataHandler/2021/AIS_2021_01_02.zip', 'https://coast.noaa.gov/htdata/CMSP/AISDataHandler/2021/AIS_2021_01_03.zip', 'https://coast.noaa.gov/htdata/CMSP/AISDataHandler/2021/AIS_2021_01_04.zip', 'https://coast.noaa.gov/htdata/CMSP/AISDataHandler/2021/AIS_2021_01_05.zip', 'https://coast.noaa.gov/htdata/CMSP/AISDataHandler/2021/AIS_2021_01_06.zip', 'https://coast.noaa.gov/htdata/CMSP/AISDataHandler/2021/AIS_2021_01_07.zip', 'https://coast.noaa.gov/htdata/CMSP/AISDataHandler/2021/AIS_2021_01_08.zip', 'https://coast.noaa.gov/htdata/CMSP/AISDataHandler/2021/AIS_2021_01_09.zip', 'https://coast.noaa.gov/htdata/CMSP/AISDataHandler/2021/AIS_2021_01_10.zip', 'https://coast.noaa.gov/htdata/CMSP/AISDataHandler/2021/AIS_2021_01_11.zip', 'https://coast.noaa.gov/htdata/CMSP/AISDataHandler/2021/AIS_2021_01_12.zip', 'https://coast.noaa.gov/htdata/CMSP/AISDataHandler/2021/AIS_2021_01_13.zip', 'https://coast.noaa.gov/htdata/CMSP/AISDataHandler/2021/AIS_2021_01_14.zip', 'https://coast.noaa.gov/htdata/CMSP/AISDataHandler/2021/AIS_2021_01_15.zip', 'https://coast.noaa.gov/htdata/CMSP/AISDataHandler/2021/AIS_2021_01_16.zip', 'https://coast.noaa.gov/htdata/CMSP/AISDataHandler/2021/AIS_2021_01_17.zip', 'https://coast.noaa.gov/htdata/CMSP/AISDataHandler/2021/AIS_2021_01_18.zip', 'https://coast.noaa.gov/htdata/CMSP/AISDataHandler/2021/AIS_2021_01_19.zip', 'https://coast.noaa.gov/htdata/CMSP/AISDataHandler/2021/AIS_2021_01_20.zip']\n"
     ]
    }
   ],
   "source": [
    "print(urls)"
   ]
  },
  {
   "cell_type": "code",
   "execution_count": 12,
   "id": "5052599e-c91d-46ac-948d-a5e50587869b",
   "metadata": {
    "tags": []
   },
   "outputs": [],
   "source": [
    "for url in urls:\n",
    "    download_file(url)"
   ]
  },
  {
   "cell_type": "code",
   "execution_count": 16,
   "id": "70fd0eaf-834c-4a7d-b58b-7a450d67cab6",
   "metadata": {
    "tags": []
   },
   "outputs": [
    {
     "name": "stdout",
     "output_type": "stream",
     "text": [
      "Archive:  data/california-pam/AIS_2021_01_19.zip\n",
      "  inflating: data/vessel/AIS_2021_01_19.csv  Archive:  data/california-pam/AIS_2021_01_20.zip\n",
      "  inflating: data/vessel/AIS_2021_01_20.csv  Archive:  data/california-pam/AIS_2021_01_07.zip\n",
      "  inflating: data/vessel/AIS_2021_01_07.csv  Archive:  data/california-pam/AIS_2021_01_15.zip\n",
      "  inflating: data/vessel/AIS_2021_01_15.csv  Archive:  data/california-pam/AIS_2021_01_14.zip\n",
      "  inflating: data/vessel/AIS_2021_01_14.csv  Archive:  data/california-pam/AIS_2021_01_01.zip\n",
      "  inflating: data/vessel/AIS_2021_01_01.csv  Archive:  data/california-pam/AIS_2021_01_11.zip\n",
      "  inflating: data/vessel/AIS_2021_01_11.csv  Archive:  data/california-pam/AIS_2021_01_05.zip\n",
      "  inflating: data/vessel/AIS_2021_01_05.csv  Archive:  data/california-pam/AIS_2021_01_03.zip\n",
      "  inflating: data/vessel/AIS_2021_01_03.csv  Archive:  data/california-pam/AIS_2021_01_12.zip\n",
      "  inflating: data/vessel/AIS_2021_01_12.csv  Archive:  data/california-pam/AIS_2021_01_17.zip\n",
      "  inflating: data/vessel/AIS_2021_01_17.csv  Archive:  data/california-pam/AIS_2021_01_08.zip\n",
      "  inflating: data/vessel/AIS_2021_01_08.csv  Archive:  data/california-pam/AIS_2021_01_13.zip\n",
      "  inflating: data/vessel/AIS_2021_01_13.csv  Archive:  data/california-pam/AIS_2021_01_18.zip\n",
      "  inflating: data/vessel/AIS_2021_01_18.csv  Archive:  data/california-pam/AIS_2021_01_02.zip\n",
      "  inflating: data/vessel/AIS_2021_01_02.csv  Archive:  data/california-pam/AIS_2021_01_09.zip\n",
      "  inflating: data/vessel/AIS_2021_01_09.csv  Archive:  data/california-pam/AIS_2021_01_06.zip\n",
      "  inflating: data/vessel/AIS_2021_01_06.csv  Archive:  data/california-pam/AIS_2021_01_10.zip\n",
      "  inflating: data/vessel/AIS_2021_01_10.csv  Archive:  data/california-pam/AIS_2021_01_16.zip\n",
      "  inflating: data/vessel/AIS_2021_01_16.csv  Archive:  data/california-pam/AIS_2021_01_04.zip\n",
      "  inflating: data/vessel/AIS_2021_01_04.csv  \n",
      "\n",
      "\n"
     ]
    }
   ],
   "source": [
    "# unzip files\n",
    "for file in glob.glob('data/california-pam/AIS_2021*.zip'):\n",
    "    subprocess.Popen(['unzip', file, '-d', 'data/vessel'])"
   ]
  },
  {
   "cell_type": "code",
   "execution_count": 4,
   "id": "b45455ed-c6b9-476a-9313-f97b07db31b3",
   "metadata": {
    "tags": []
   },
   "outputs": [
    {
     "name": "stdout",
     "output_type": "stream",
     "text": [
      "Defaulting to user installation because normal site-packages is not writeable\n",
      "Requirement already satisfied: geopandas in /opt/conda/lib/python3.9/site-packages (0.13.2)\n",
      "Requirement already satisfied: fiona in /opt/conda/lib/python3.9/site-packages (1.9.4)\n",
      "Requirement already satisfied: shapely in /opt/conda/lib/python3.9/site-packages (2.0.1)\n",
      "Requirement already satisfied: packaging in /opt/conda/lib/python3.9/site-packages (from geopandas) (23.1)\n",
      "Requirement already satisfied: pyproj>=3.0.1 in /opt/conda/lib/python3.9/site-packages (from geopandas) (3.6.0)\n",
      "Requirement already satisfied: pandas>=1.1.0 in /opt/conda/lib/python3.9/site-packages (from geopandas) (1.5.3)\n",
      "Requirement already satisfied: click~=8.0 in /opt/conda/lib/python3.9/site-packages (from fiona) (8.1.6)\n",
      "Requirement already satisfied: importlib-metadata in /opt/conda/lib/python3.9/site-packages (from fiona) (6.8.0)\n",
      "Requirement already satisfied: certifi in /opt/conda/lib/python3.9/site-packages (from fiona) (2023.7.22)\n",
      "Requirement already satisfied: six in /opt/conda/lib/python3.9/site-packages (from fiona) (1.16.0)\n",
      "Requirement already satisfied: click-plugins>=1.0 in /opt/conda/lib/python3.9/site-packages (from fiona) (1.1.1)\n",
      "Requirement already satisfied: cligj>=0.5 in /opt/conda/lib/python3.9/site-packages (from fiona) (0.7.2)\n",
      "Requirement already satisfied: attrs>=19.2.0 in /opt/conda/lib/python3.9/site-packages (from fiona) (23.1.0)\n",
      "Requirement already satisfied: numpy>=1.14 in /opt/conda/lib/python3.9/site-packages (from shapely) (1.24.4)\n",
      "Requirement already satisfied: python-dateutil>=2.8.1 in /opt/conda/lib/python3.9/site-packages (from pandas>=1.1.0->geopandas) (2.8.2)\n",
      "Requirement already satisfied: pytz>=2020.1 in /opt/conda/lib/python3.9/site-packages (from pandas>=1.1.0->geopandas) (2023.3)\n",
      "Requirement already satisfied: zipp>=0.5 in /opt/conda/lib/python3.9/site-packages (from importlib-metadata->fiona) (3.16.2)\n"
     ]
    }
   ],
   "source": [
    "! pip install geopandas fiona shapely"
   ]
  },
  {
   "cell_type": "markdown",
   "id": "511c7ed2-81fa-4d57-acb0-c01a54892505",
   "metadata": {},
   "source": [
    "# Read files\n",
    "\n",
    "Attempt to count vessel activity within area at around 0AM"
   ]
  },
  {
   "cell_type": "code",
   "execution_count": 17,
   "id": "2a5d564b-71e4-4bd8-a484-2d5d6e1ebdf5",
   "metadata": {
    "collapsed": true,
    "jupyter": {
     "outputs_hidden": true
    },
    "tags": []
   },
   "outputs": [
    {
     "name": "stdout",
     "output_type": "stream",
     "text": [
      "\n",
      "\n",
      "\n",
      "\n",
      "\n",
      "\n",
      "\n",
      "\n",
      "\n",
      "\n",
      "\n",
      "\n",
      "\n",
      "\n",
      "\n",
      "\n",
      "\n"
     ]
    }
   ],
   "source": [
    "import geopandas as gpd\n",
    "import pandas as pd"
   ]
  },
  {
   "cell_type": "code",
   "execution_count": 18,
   "id": "583747b6-c646-4f2c-bdaf-c2812feedd65",
   "metadata": {
    "tags": []
   },
   "outputs": [],
   "source": [
    "ais_0101 = pd.read_csv('data/vessel/AIS_2021_01_01.csv')"
   ]
  },
  {
   "cell_type": "code",
   "execution_count": 20,
   "id": "2c64878e-5116-4ae7-ae26-fed962513dd7",
   "metadata": {
    "tags": []
   },
   "outputs": [
    {
     "data": {
      "text/plain": [
       "6624812"
      ]
     },
     "execution_count": 20,
     "metadata": {},
     "output_type": "execute_result"
    }
   ],
   "source": [
    "len(ais_0101)"
   ]
  },
  {
   "cell_type": "code",
   "execution_count": 21,
   "id": "1b2281b8-80d6-4c32-bb5f-60c69c943707",
   "metadata": {
    "tags": []
   },
   "outputs": [
    {
     "data": {
      "text/html": [
       "<div>\n",
       "<style scoped>\n",
       "    .dataframe tbody tr th:only-of-type {\n",
       "        vertical-align: middle;\n",
       "    }\n",
       "\n",
       "    .dataframe tbody tr th {\n",
       "        vertical-align: top;\n",
       "    }\n",
       "\n",
       "    .dataframe thead th {\n",
       "        text-align: right;\n",
       "    }\n",
       "</style>\n",
       "<table border=\"1\" class=\"dataframe\">\n",
       "  <thead>\n",
       "    <tr style=\"text-align: right;\">\n",
       "      <th></th>\n",
       "      <th>MMSI</th>\n",
       "      <th>BaseDateTime</th>\n",
       "      <th>LAT</th>\n",
       "      <th>LON</th>\n",
       "      <th>SOG</th>\n",
       "      <th>COG</th>\n",
       "      <th>Heading</th>\n",
       "      <th>VesselName</th>\n",
       "      <th>IMO</th>\n",
       "      <th>CallSign</th>\n",
       "      <th>VesselType</th>\n",
       "      <th>Status</th>\n",
       "      <th>Length</th>\n",
       "      <th>Width</th>\n",
       "      <th>Draft</th>\n",
       "      <th>Cargo</th>\n",
       "      <th>TranscieverClass</th>\n",
       "    </tr>\n",
       "  </thead>\n",
       "  <tbody>\n",
       "    <tr>\n",
       "      <th>0</th>\n",
       "      <td>338325166</td>\n",
       "      <td>2021-01-01T00:00:20</td>\n",
       "      <td>28.08771</td>\n",
       "      <td>-82.77474</td>\n",
       "      <td>0.0</td>\n",
       "      <td>0.0</td>\n",
       "      <td>511.0</td>\n",
       "      <td>SALT WIFE</td>\n",
       "      <td>IMO0000000</td>\n",
       "      <td>NaN</td>\n",
       "      <td>37.0</td>\n",
       "      <td>NaN</td>\n",
       "      <td>13.0</td>\n",
       "      <td>6.0</td>\n",
       "      <td>NaN</td>\n",
       "      <td>NaN</td>\n",
       "      <td>B</td>\n",
       "    </tr>\n",
       "    <tr>\n",
       "      <th>1</th>\n",
       "      <td>368163740</td>\n",
       "      <td>2021-01-01T00:00:18</td>\n",
       "      <td>26.10727</td>\n",
       "      <td>-80.12551</td>\n",
       "      <td>0.0</td>\n",
       "      <td>360.0</td>\n",
       "      <td>511.0</td>\n",
       "      <td>TOTALLY EXCELLENT</td>\n",
       "      <td>IMO0000000</td>\n",
       "      <td>WDL7818</td>\n",
       "      <td>37.0</td>\n",
       "      <td>NaN</td>\n",
       "      <td>18.0</td>\n",
       "      <td>4.0</td>\n",
       "      <td>NaN</td>\n",
       "      <td>NaN</td>\n",
       "      <td>B</td>\n",
       "    </tr>\n",
       "    <tr>\n",
       "      <th>2</th>\n",
       "      <td>366811570</td>\n",
       "      <td>2021-01-01T00:00:23</td>\n",
       "      <td>30.66150</td>\n",
       "      <td>-88.03264</td>\n",
       "      <td>0.0</td>\n",
       "      <td>196.0</td>\n",
       "      <td>270.0</td>\n",
       "      <td>NATALIE H</td>\n",
       "      <td>IMO7200245</td>\n",
       "      <td>WDA4637</td>\n",
       "      <td>31.0</td>\n",
       "      <td>0.0</td>\n",
       "      <td>18.0</td>\n",
       "      <td>7.0</td>\n",
       "      <td>NaN</td>\n",
       "      <td>NaN</td>\n",
       "      <td>A</td>\n",
       "    </tr>\n",
       "    <tr>\n",
       "      <th>3</th>\n",
       "      <td>368140750</td>\n",
       "      <td>2021-01-01T00:00:24</td>\n",
       "      <td>30.23140</td>\n",
       "      <td>-93.25791</td>\n",
       "      <td>0.0</td>\n",
       "      <td>50.5</td>\n",
       "      <td>272.0</td>\n",
       "      <td>NaN</td>\n",
       "      <td>NaN</td>\n",
       "      <td>NaN</td>\n",
       "      <td>NaN</td>\n",
       "      <td>15.0</td>\n",
       "      <td>NaN</td>\n",
       "      <td>NaN</td>\n",
       "      <td>NaN</td>\n",
       "      <td>NaN</td>\n",
       "      <td>A</td>\n",
       "    </tr>\n",
       "    <tr>\n",
       "      <th>4</th>\n",
       "      <td>368170010</td>\n",
       "      <td>2021-01-01T00:00:28</td>\n",
       "      <td>29.57223</td>\n",
       "      <td>-90.59391</td>\n",
       "      <td>0.0</td>\n",
       "      <td>316.2</td>\n",
       "      <td>197.0</td>\n",
       "      <td>NaN</td>\n",
       "      <td>NaN</td>\n",
       "      <td>NaN</td>\n",
       "      <td>NaN</td>\n",
       "      <td>13.0</td>\n",
       "      <td>NaN</td>\n",
       "      <td>NaN</td>\n",
       "      <td>NaN</td>\n",
       "      <td>NaN</td>\n",
       "      <td>A</td>\n",
       "    </tr>\n",
       "  </tbody>\n",
       "</table>\n",
       "</div>"
      ],
      "text/plain": [
       "        MMSI         BaseDateTime       LAT       LON  SOG    COG  Heading  \\\n",
       "0  338325166  2021-01-01T00:00:20  28.08771 -82.77474  0.0    0.0    511.0   \n",
       "1  368163740  2021-01-01T00:00:18  26.10727 -80.12551  0.0  360.0    511.0   \n",
       "2  366811570  2021-01-01T00:00:23  30.66150 -88.03264  0.0  196.0    270.0   \n",
       "3  368140750  2021-01-01T00:00:24  30.23140 -93.25791  0.0   50.5    272.0   \n",
       "4  368170010  2021-01-01T00:00:28  29.57223 -90.59391  0.0  316.2    197.0   \n",
       "\n",
       "          VesselName         IMO CallSign  VesselType  Status  Length  Width  \\\n",
       "0          SALT WIFE  IMO0000000      NaN        37.0     NaN    13.0    6.0   \n",
       "1  TOTALLY EXCELLENT  IMO0000000  WDL7818        37.0     NaN    18.0    4.0   \n",
       "2          NATALIE H  IMO7200245  WDA4637        31.0     0.0    18.0    7.0   \n",
       "3                NaN         NaN      NaN         NaN    15.0     NaN    NaN   \n",
       "4                NaN         NaN      NaN         NaN    13.0     NaN    NaN   \n",
       "\n",
       "   Draft  Cargo TranscieverClass  \n",
       "0    NaN    NaN                B  \n",
       "1    NaN    NaN                B  \n",
       "2    NaN    NaN                A  \n",
       "3    NaN    NaN                A  \n",
       "4    NaN    NaN                A  "
      ]
     },
     "execution_count": 21,
     "metadata": {},
     "output_type": "execute_result"
    }
   ],
   "source": [
    "ais_0101.head()"
   ]
  },
  {
   "cell_type": "code",
   "execution_count": 26,
   "id": "9697960b-ee9b-4980-a11c-d3cf0d12c2cd",
   "metadata": {
    "tags": []
   },
   "outputs": [],
   "source": [
    "# our audio data is around 12AM\n",
    "query_time = \"BaseDateTime > '2021-01-01T00:00:00' & BaseDateTime < '2021-01-01T01:00:00'\""
   ]
  },
  {
   "cell_type": "code",
   "execution_count": 45,
   "id": "1a25dd5c-5539-49b7-ac4c-79df2bf2e98f",
   "metadata": {
    "tags": []
   },
   "outputs": [],
   "source": [
    "ais_0101_timed = ais_0101.query(query_time)"
   ]
  },
  {
   "cell_type": "code",
   "execution_count": 52,
   "id": "4acd3bb6-5352-4322-a37d-46775c499661",
   "metadata": {
    "tags": []
   },
   "outputs": [
    {
     "data": {
      "text/plain": [
       "211081"
      ]
     },
     "execution_count": 52,
     "metadata": {},
     "output_type": "execute_result"
    }
   ],
   "source": [
    "len(ais_0101_timed)"
   ]
  },
  {
   "cell_type": "markdown",
   "id": "345fd378-2b28-42db-90cf-49190cd067a0",
   "metadata": {},
   "source": [
    "Get bounding box within hydrophone area to count number of vessels:\n",
    "36.713°N, 122.186°W\n",
    "\n",
    "122.186W = -122.186\n",
    "\n",
    "-> Choose bounding box within 1 degrees:"
   ]
  },
  {
   "cell_type": "code",
   "execution_count": 47,
   "id": "7b81095c-6153-4e1a-ae34-5fa198658cd8",
   "metadata": {
    "tags": []
   },
   "outputs": [],
   "source": [
    "lon = -122.186\n",
    "lat = 36.713 "
   ]
  },
  {
   "cell_type": "code",
   "execution_count": 56,
   "id": "29462bd8-37f6-4129-982e-947bdf830309",
   "metadata": {
    "tags": []
   },
   "outputs": [],
   "source": [
    "query_spatial = f\"LAT > {lat-0.25} & LAT < {lat + 0.25} & LON > {lon-0.25} & LON < {lon+0.25}\""
   ]
  },
  {
   "cell_type": "code",
   "execution_count": 57,
   "id": "62816556-bbe3-43ae-8286-198e111e5078",
   "metadata": {
    "tags": []
   },
   "outputs": [],
   "source": [
    "ais_0101_res = ais_0101_timed.query(query_spatial)"
   ]
  },
  {
   "cell_type": "code",
   "execution_count": 58,
   "id": "850657e6-8d55-4649-957f-12f092e342b5",
   "metadata": {
    "tags": []
   },
   "outputs": [
    {
     "data": {
      "text/plain": [
       "0"
      ]
     },
     "execution_count": 58,
     "metadata": {},
     "output_type": "execute_result"
    }
   ],
   "source": [
    "len(ais_0101_res) # 319 within bounding box"
   ]
  },
  {
   "cell_type": "code",
   "execution_count": 59,
   "id": "0cea0de9-1a92-4aec-88d9-d92260dc48ef",
   "metadata": {
    "tags": []
   },
   "outputs": [
    {
     "data": {
      "text/html": [
       "<div>\n",
       "<style scoped>\n",
       "    .dataframe tbody tr th:only-of-type {\n",
       "        vertical-align: middle;\n",
       "    }\n",
       "\n",
       "    .dataframe tbody tr th {\n",
       "        vertical-align: top;\n",
       "    }\n",
       "\n",
       "    .dataframe thead th {\n",
       "        text-align: right;\n",
       "    }\n",
       "</style>\n",
       "<table border=\"1\" class=\"dataframe\">\n",
       "  <thead>\n",
       "    <tr style=\"text-align: right;\">\n",
       "      <th></th>\n",
       "      <th>MMSI</th>\n",
       "      <th>BaseDateTime</th>\n",
       "      <th>LAT</th>\n",
       "      <th>LON</th>\n",
       "      <th>SOG</th>\n",
       "      <th>COG</th>\n",
       "      <th>Heading</th>\n",
       "      <th>VesselName</th>\n",
       "      <th>IMO</th>\n",
       "      <th>CallSign</th>\n",
       "      <th>VesselType</th>\n",
       "      <th>Status</th>\n",
       "      <th>Length</th>\n",
       "      <th>Width</th>\n",
       "      <th>Draft</th>\n",
       "      <th>Cargo</th>\n",
       "      <th>TranscieverClass</th>\n",
       "    </tr>\n",
       "  </thead>\n",
       "  <tbody>\n",
       "  </tbody>\n",
       "</table>\n",
       "</div>"
      ],
      "text/plain": [
       "Empty DataFrame\n",
       "Columns: [MMSI, BaseDateTime, LAT, LON, SOG, COG, Heading, VesselName, IMO, CallSign, VesselType, Status, Length, Width, Draft, Cargo, TranscieverClass]\n",
       "Index: []"
      ]
     },
     "execution_count": 59,
     "metadata": {},
     "output_type": "execute_result"
    }
   ],
   "source": [
    "ais_0101_res"
   ]
  },
  {
   "cell_type": "code",
   "execution_count": 60,
   "id": "25ba327a-2602-4f0a-9a05-5cf115c89692",
   "metadata": {
    "tags": []
   },
   "outputs": [
    {
     "data": {
      "text/plain": [
       "array([], dtype=int64)"
      ]
     },
     "execution_count": 60,
     "metadata": {},
     "output_type": "execute_result"
    }
   ],
   "source": [
    "ais_0101_res['MMSI'].unique()"
   ]
  },
  {
   "cell_type": "code",
   "execution_count": 63,
   "id": "1f2b58a5-84b0-4434-ba88-eaf00cb5701d",
   "metadata": {
    "tags": []
   },
   "outputs": [],
   "source": [
    "# develop function to output number of ships\n",
    "def get_vessel_activity(data_path):\n",
    "    # data path has date, so we can keep track of time\n",
    "    date = os.path.basename(data_path)[4:-4]\n",
    "    \n",
    "    df = pd.read_csv(data_path, engine='pyarrow')\n",
    "    query_time = df[df['BaseDateTime'].dt.hour == 0]\n",
    "    query_boundingbox = f\"LAT > {lat-0.25} & LAT < {lat + 0.25} & LON > {lon-0.25} & LON < {lon+0.25}\"\n",
    "    res = query_time.query(query_boundingbox)\n",
    "    print(f\"{date} has {len(res)} within bounding box\")\n",
    "    return res"
   ]
  },
  {
   "cell_type": "code",
   "execution_count": 64,
   "id": "c456ef2b-00e4-433b-8bd1-87f2c7f9c0db",
   "metadata": {
    "tags": []
   },
   "outputs": [
    {
     "name": "stdout",
     "output_type": "stream",
     "text": [
      "2021_01_08 has 12 within bounding box\n",
      "2021_01_19 has 0 within bounding box\n",
      "2021_01_01 has 0 within bounding box\n",
      "2021_01_03 has 55 within bounding box\n",
      "2021_01_15 has 0 within bounding box\n",
      "2021_01_17 has 0 within bounding box\n",
      "2021_01_14 has 0 within bounding box\n",
      "2021_01_18 has 72 within bounding box\n",
      "2021_01_04 has 40 within bounding box\n",
      "2021_01_13 has 0 within bounding box\n",
      "2021_01_11 has 0 within bounding box\n",
      "2021_01_02 has 42 within bounding box\n",
      "2021_01_06 has 42 within bounding box\n",
      "2021_01_07 has 0 within bounding box\n",
      "2021_01_09 has 0 within bounding box\n",
      "2021_01_12 has 0 within bounding box\n",
      "2021_01_16 has 37 within bounding box\n",
      "2021_01_20 has 47 within bounding box\n",
      "2021_01_05 has 53 within bounding box\n",
      "2021_01_10 has 69 within bounding box\n"
     ]
    }
   ],
   "source": [
    "results = {}\n",
    "for f in glob.glob('data/vessel/AIS*.csv'):\n",
    "    res =get_vessel_activity(f)\n",
    "    results[f] = res"
   ]
  },
  {
   "cell_type": "code",
   "execution_count": 65,
   "id": "8029a4aa-c826-401e-a874-ebb61200fda4",
   "metadata": {
    "tags": []
   },
   "outputs": [
    {
     "name": "stdout",
     "output_type": "stream",
     "text": [
      "2021_01_08 has 1 vessels within bounding box\n",
      "2021_01_19 has 0 vessels within bounding box\n",
      "2021_01_01 has 0 vessels within bounding box\n",
      "2021_01_03 has 2 vessels within bounding box\n",
      "2021_01_15 has 0 vessels within bounding box\n",
      "2021_01_17 has 0 vessels within bounding box\n",
      "2021_01_14 has 0 vessels within bounding box\n",
      "2021_01_18 has 2 vessels within bounding box\n",
      "2021_01_04 has 1 vessels within bounding box\n",
      "2021_01_13 has 0 vessels within bounding box\n",
      "2021_01_11 has 0 vessels within bounding box\n",
      "2021_01_02 has 2 vessels within bounding box\n",
      "2021_01_06 has 1 vessels within bounding box\n",
      "2021_01_07 has 0 vessels within bounding box\n",
      "2021_01_09 has 0 vessels within bounding box\n",
      "2021_01_12 has 0 vessels within bounding box\n",
      "2021_01_16 has 1 vessels within bounding box\n",
      "2021_01_20 has 1 vessels within bounding box\n",
      "2021_01_05 has 1 vessels within bounding box\n",
      "2021_01_10 has 2 vessels within bounding box\n"
     ]
    }
   ],
   "source": [
    "for d, res in results.items():\n",
    "    date = os.path.basename(d)[4:-4]\n",
    "    unique_vessels = len(res['MMSI'].unique())\n",
    "    print(f\"{date} has {unique_vessels} vessels within bounding box\")"
   ]
  },
  {
   "cell_type": "code",
   "execution_count": 67,
   "id": "a805dcf2-0cdd-4ac7-bbc7-9676b1c200bc",
   "metadata": {
    "tags": []
   },
   "outputs": [],
   "source": [
    "import pickle\n",
    "\n",
    "with open('data/vessel/vessels_count.pickle', 'wb') as f:\n",
    "    pickle.dump(results, f)"
   ]
  },
  {
   "cell_type": "code",
   "execution_count": null,
   "id": "6c97c77a-208a-4aeb-b4ec-5d6a9dbb2006",
   "metadata": {},
   "outputs": [],
   "source": []
  }
 ],
 "metadata": {
  "kernelspec": {
   "display_name": "Python [conda env:root] *",
   "language": "python",
   "name": "conda-root-py"
  },
  "language_info": {
   "codemirror_mode": {
    "name": "ipython",
    "version": 3
   },
   "file_extension": ".py",
   "mimetype": "text/x-python",
   "name": "python",
   "nbconvert_exporter": "python",
   "pygments_lexer": "ipython3",
   "version": "3.9.16"
  }
 },
 "nbformat": 4,
 "nbformat_minor": 5
}
