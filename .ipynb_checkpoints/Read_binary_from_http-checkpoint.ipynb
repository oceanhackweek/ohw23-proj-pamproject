{
 "cells": [
  {
   "cell_type": "code",
   "execution_count": 74,
   "id": "66223059-15aa-4c1f-99bf-ac95ac2539a1",
   "metadata": {
    "tags": []
   },
   "outputs": [],
   "source": [
    "import urllib\n",
    "import io, re"
   ]
  },
  {
   "cell_type": "code",
   "execution_count": 65,
   "id": "4a437ea2-32f8-4132-8bcb-23545f62617c",
   "metadata": {
    "tags": []
   },
   "outputs": [],
   "source": [
    "with urllib.request.urlopen('https://imos-data.aodn.org.au/IMOS/ANMN/Acoustic/PAPCA/3444/20161002/raw/57F04DF1.DAT') as f:\n",
    "    data = f.readlines()"
   ]
  },
  {
   "cell_type": "code",
   "execution_count": 69,
   "id": "7f868298-0fc7-473c-8dbc-36c3757238d9",
   "metadata": {
    "tags": []
   },
   "outputs": [],
   "source": [
    "header, body = data[:5], data[5:]"
   ]
  },
  {
   "cell_type": "code",
   "execution_count": 72,
   "id": "7120251f-d1fc-43fe-894e-1cf086a24fa6",
   "metadata": {
    "tags": []
   },
   "outputs": [],
   "source": [
    "header = [h.decode() for h in header]"
   ]
  },
  {
   "cell_type": "code",
   "execution_count": 73,
   "id": "f5c7788e-40fb-40a5-84f8-20d19d68557e",
   "metadata": {
    "tags": []
   },
   "outputs": [
    {
     "data": {
      "text/plain": [
       "['Record Header-       E24 set# 3444\\n',\n",
       " 'Schedule 1 2016/10/02 00:00:01 - 48836\\n',\n",
       " 'Sample Rate 06000 Duration 0000000300\\n',\n",
       " 'Filter 0 C0=1 C1=0 LF=008 HF=02800 PG=010 G=001\\n',\n",
       " 'Filter 1 C2=0 C3=0 LF=008 HF=05000 PG=001 G=001\\n']"
      ]
     },
     "execution_count": 73,
     "metadata": {},
     "output_type": "execute_result"
    }
   ],
   "source": [
    "header"
   ]
  },
  {
   "cell_type": "code",
   "execution_count": 78,
   "id": "20c4dfdb-7ca3-4caa-adaf-8357556e1836",
   "metadata": {
    "tags": []
   },
   "outputs": [],
   "source": [
    "match = re.match('Sample Rate ([0-9]*) Duration ([0-9]*)', header[2])"
   ]
  },
  {
   "cell_type": "code",
   "execution_count": 84,
   "id": "4ac315ee-ecb8-481c-b8bc-4ac64d61fab5",
   "metadata": {
    "tags": []
   },
   "outputs": [
    {
     "data": {
      "text/plain": [
       "6000"
      ]
     },
     "execution_count": 84,
     "metadata": {},
     "output_type": "execute_result"
    }
   ],
   "source": [
    "int(match.group(1))"
   ]
  },
  {
   "cell_type": "code",
   "execution_count": 87,
   "id": "4186a49f-847f-4a8f-b676-cad76ac08511",
   "metadata": {
    "tags": []
   },
   "outputs": [],
   "source": [
    "match = re.match('Schedule [0-9]* ([0-9]{4})\\/([0-9]{2})\\/([0-9]{1,2}) ([0-9:]*) - ([0-9]*)', header[1])"
   ]
  },
  {
   "cell_type": "code",
   "execution_count": 88,
   "id": "bd9710a6-3e43-41f1-a77d-7b4196127fee",
   "metadata": {
    "tags": []
   },
   "outputs": [
    {
     "data": {
      "text/plain": [
       "('2016', '10', '02', '00:00:01', '48836')"
      ]
     },
     "execution_count": 88,
     "metadata": {},
     "output_type": "execute_result"
    }
   ],
   "source": [
    "match.groups()"
   ]
  },
  {
   "cell_type": "code",
   "execution_count": null,
   "id": "daa26f22-3750-45b8-97b0-7e7cb0bc6fcc",
   "metadata": {},
   "outputs": [],
   "source": [
    "# https://regex101.com/"
   ]
  },
  {
   "cell_type": "code",
   "execution_count": 89,
   "id": "9941155f-e7e8-4971-bbd1-5d75b3942a6e",
   "metadata": {
    "tags": []
   },
   "outputs": [
    {
     "data": {
      "text/plain": [
       "b'\\x7f#~\\xdd\\x7f\\x01~\\xde~\\xac~\\xb1~\\xa9~\\x96~\\xdc~\\xcc\\x7f\\n'"
      ]
     },
     "execution_count": 89,
     "metadata": {},
     "output_type": "execute_result"
    }
   ],
   "source": [
    "body[0]"
   ]
  },
  {
   "cell_type": "code",
   "execution_count": 90,
   "id": "52831200-1dcc-4c03-9ef4-fea5c59d7079",
   "metadata": {
    "tags": []
   },
   "outputs": [],
   "source": [
    "import numpy as np"
   ]
  },
  {
   "cell_type": "code",
   "execution_count": 92,
   "id": "b1fa0bb8-9142-4559-9fed-23ba2d0ff4f1",
   "metadata": {
    "tags": []
   },
   "outputs": [
    {
     "ename": "FileNotFoundError",
     "evalue": "[Errno 2] No such file or directory: b'\\x7f#~\\xdd\\x7f\\x01~\\xde~\\xac~\\xb1~\\xa9~\\x96~\\xdc~\\xcc\\x7f\\n'",
     "output_type": "error",
     "traceback": [
      "\u001b[0;31m---------------------------------------------------------------------------\u001b[0m",
      "\u001b[0;31mFileNotFoundError\u001b[0m                         Traceback (most recent call last)",
      "Cell \u001b[0;32mIn[92], line 1\u001b[0m\n\u001b[0;32m----> 1\u001b[0m \u001b[43mnp\u001b[49m\u001b[38;5;241;43m.\u001b[39;49m\u001b[43mfromfile\u001b[49m\u001b[43m(\u001b[49m\u001b[43mbody\u001b[49m\u001b[43m[\u001b[49m\u001b[38;5;241;43m0\u001b[39;49m\u001b[43m]\u001b[49m\u001b[43m)\u001b[49m\n",
      "\u001b[0;31mFileNotFoundError\u001b[0m: [Errno 2] No such file or directory: b'\\x7f#~\\xdd\\x7f\\x01~\\xde~\\xac~\\xb1~\\xa9~\\x96~\\xdc~\\xcc\\x7f\\n'"
     ]
    }
   ],
   "source": [
    "np.fromfile(body[0])"
   ]
  },
  {
   "cell_type": "code",
   "execution_count": null,
   "id": "664eb9bc-63b2-4545-aaff-41d77fd50f2d",
   "metadata": {},
   "outputs": [],
   "source": []
  }
 ],
 "metadata": {
  "kernelspec": {
   "display_name": "Python 3 (ipykernel)",
   "language": "python",
   "name": "python3"
  },
  "language_info": {
   "codemirror_mode": {
    "name": "ipython",
    "version": 3
   },
   "file_extension": ".py",
   "mimetype": "text/x-python",
   "name": "python",
   "nbconvert_exporter": "python",
   "pygments_lexer": "ipython3",
   "version": "3.9.16"
  }
 },
 "nbformat": 4,
 "nbformat_minor": 5
}
