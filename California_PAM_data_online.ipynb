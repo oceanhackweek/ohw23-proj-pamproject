{
 "cells": [
  {
   "cell_type": "markdown",
   "id": "89ffbc5d-11f8-4c45-bd29-95f3536da05c",
   "metadata": {},
   "source": [
    "# California Pacific Ocean Sound Recordings\n",
    "https://registry.opendata.aws/pacific-sound/\n",
    "\n",
    "FILES TOO BIG: "
   ]
  },
  {
   "cell_type": "code",
   "execution_count": 1,
   "id": "7d1b2489-d061-43dc-8adb-ab6595fdb36e",
   "metadata": {
    "tags": []
   },
   "outputs": [],
   "source": [
    "# get data from 2021"
   ]
  },
  {
   "cell_type": "code",
   "execution_count": 25,
   "id": "e5168c6c",
   "metadata": {},
   "outputs": [],
   "source": [
    "import boto3\n",
    "from botocore import UNSIGNED\n",
    "from botocore.client import Config\n",
    "from six.moves.urllib.request import urlopen\n",
    "import io\n",
    "import scipy\n",
    "from scipy import signal, interpolate\n",
    "import numpy as np\n",
    "import soundfile as sf\n",
    "import matplotlib.pyplot as plt\n",
    "import s3fs\n",
    "import botocore\n",
    "import os"
   ]
  },
  {
   "cell_type": "code",
   "execution_count": 9,
   "id": "d8ef6af1",
   "metadata": {},
   "outputs": [],
   "source": [
    "s3 = boto3.client('s3',\n",
    "    aws_access_key_id='',\n",
    "    aws_secret_access_key='', \n",
    "    config=Config(signature_version=UNSIGNED))"
   ]
  },
  {
   "cell_type": "code",
   "execution_count": 10,
   "id": "5ca49964",
   "metadata": {},
   "outputs": [
    {
     "name": "stdout",
     "output_type": "stream",
     "text": [
      "01/MARS_20210101_000424.wav\n",
      "01/MARS_20210101_001424.wav\n",
      "01/MARS_20210101_002424.wav\n",
      "01/MARS_20210101_003424.wav\n",
      "01/MARS_20210101_004424.wav\n",
      "01/MARS_20210101_005424.wav\n",
      "01/MARS_20210101_010424.wav\n",
      "01/MARS_20210101_011424.wav\n",
      "01/MARS_20210101_012424.wav\n",
      "01/MARS_20210101_013424.wav\n",
      "01/MARS_20210101_014424.wav\n",
      "01/MARS_20210101_015424.wav\n",
      "01/MARS_20210101_020424.wav\n",
      "01/MARS_20210101_021424.wav\n",
      "01/MARS_20210101_022424.wav\n",
      "01/MARS_20210101_023424.wav\n",
      "01/MARS_20210101_024424.wav\n",
      "01/MARS_20210101_025424.wav\n",
      "01/MARS_20210101_030424.wav\n",
      "01/MARS_20210101_031424.wav\n",
      "01/MARS_20210101_032424.wav\n",
      "01/MARS_20210101_033424.wav\n"
     ]
    }
   ],
   "source": [
    "bucket = 'pacific-sound-256khz-2021'\n",
    "\n",
    "for i, obj in enumerate(s3.list_objects_v2(Bucket=bucket)['Contents']):\n",
    "  print(obj['Key'])\n",
    "  if i > 20:\n",
    "      break"
   ]
  },
  {
   "cell_type": "code",
   "execution_count": 13,
   "id": "712a459f",
   "metadata": {},
   "outputs": [],
   "source": [
    "bucket = 'pacific-sound-256khz-2021'\n",
    "filename = '01/MARS_20210101_000424.wav'\n",
    "url = f'https://{bucket}.s3.amazonaws.com/{filename}'\n",
    "#print(f'Reading metadata from {url}')\n",
    "#sf.info(io.BytesIO(urlopen(url).read()), verbose=True)"
   ]
  },
  {
   "cell_type": "code",
   "execution_count": 42,
   "id": "1f9fb205",
   "metadata": {},
   "outputs": [],
   "source": [
    "# Fetch all urls\n",
    "s3 = s3fs.S3FileSystem(anon=True)\n",
    "\n",
    "# List the files available\n",
    "audio_files = s3.ls(\"pacific-sound-256khz-2021/01\")"
   ]
  },
  {
   "cell_type": "code",
   "execution_count": null,
   "id": "e00f7994",
   "metadata": {},
   "outputs": [],
   "source": [
    "with s3.open(audio_files[0]) as f:\n",
    "    x, sample_rate = sf.read(io.BytesIO(f.read()),dtype='float32')"
   ]
  },
  {
   "cell_type": "code",
   "execution_count": null,
   "id": "b0b1f013",
   "metadata": {},
   "outputs": [],
   "source": [
    "# convert scaled voltage to volts\n",
    "v = x*3 \n",
    "nsec = (v.size)/sample_rate # number of seconds in vector\n",
    "spa = 1  # seconds per average\n",
    "nseg = int(nsec/spa)\n",
    "print(f'{nseg} segments of length {spa} seconds in {nsec} seconds of audio')"
   ]
  },
  {
   "cell_type": "code",
   "execution_count": null,
   "id": "cbfb620f",
   "metadata": {},
   "outputs": [],
   "source": [
    "# initialize empty LTSA\n",
    "nfreq = int(sample_rate/2+1)\n",
    "nfreq,nseg\n",
    "sg = np.empty((nfreq, nseg), float)\n",
    "sg.shape"
   ]
  },
  {
   "cell_type": "code",
   "execution_count": null,
   "id": "8040cb2e",
   "metadata": {},
   "outputs": [],
   "source": [
    "# get window for welch\n",
    "w = scipy.signal.get_window('hann',sample_rate)\n",
    "\n",
    "# process spectrogram\n",
    "for x in range(0,nseg):\n",
    "  cstart = x*spa*sample_rate\n",
    "  cend = (x+1)*spa*sample_rate\n",
    "  f,psd = scipy.signal.welch(v[cstart:cend],fs=sample_rate,window=w,nfft=sample_rate)\n",
    "  psd = 10*np.log10(psd)\n",
    "  sg[:,x] = psd"
   ]
  }
 ],
 "metadata": {
  "kernelspec": {
   "display_name": "Python 3 (ipykernel)",
   "language": "python",
   "name": "python3"
  },
  "language_info": {
   "codemirror_mode": {
    "name": "ipython",
    "version": 3
   },
   "file_extension": ".py",
   "mimetype": "text/x-python",
   "name": "python",
   "nbconvert_exporter": "python",
   "pygments_lexer": "ipython3",
   "version": "3.9.17"
  }
 },
 "nbformat": 4,
 "nbformat_minor": 5
}
